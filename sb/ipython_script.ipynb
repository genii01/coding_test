{
 "metadata": {
  "language_info": {
   "codemirror_mode": {
    "name": "ipython",
    "version": 3
   },
   "file_extension": ".py",
   "mimetype": "text/x-python",
   "name": "python",
   "nbconvert_exporter": "python",
   "pygments_lexer": "ipython3",
   "version": "3.6.5-final"
  },
  "orig_nbformat": 2,
  "kernelspec": {
   "name": "python3",
   "display_name": "Python 3"
  }
 },
 "nbformat": 4,
 "nbformat_minor": 2,
 "cells": [
  {
   "cell_type": "code",
   "execution_count": 297,
   "metadata": {
    "tags": []
   },
   "outputs": [
    {
     "output_type": "stream",
     "name": "stdout",
     "text": "bab\n"
    }
   ],
   "source": [
    "#Q_06_longest-palindromic-substring.py\n",
    "#가장 긴 팬린드롬 부분 문자열을 출력하라.\n",
    "class Solution :\n",
    "    def longestPalindrome(self, s: str) -> str :\n",
    "        def expand(left: int, right: int) -> str :\n",
    "            while left >= 0 and right <= len(s) and s[left] == s[right-1] :\n",
    "                left -= 1\n",
    "                right += 1\n",
    "            return s[left+1 : right-1]\n",
    "\n",
    "        if len(s) < 2 or s == s[::-1] :\n",
    "            return s\n",
    "        result = ''\n",
    "        for i in range(len(s) - 1) :\n",
    "            result = max(result, expand(i, i + 1), expand(i, i + 2), key=len)\n",
    "        return result\n",
    "\n",
    "input = \"babad\"\n",
    "\n",
    "s = Solution()\n",
    "result = s.longestPalindrome(input)\n",
    "print(result)"
   ]
  },
  {
   "cell_type": "code",
   "execution_count": null,
   "metadata": {},
   "outputs": [],
   "source": []
  }
 ]
}