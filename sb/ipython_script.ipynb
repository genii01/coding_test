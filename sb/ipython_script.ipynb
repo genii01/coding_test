{
 "metadata": {
  "language_info": {
   "codemirror_mode": {
    "name": "ipython",
    "version": 3
   },
   "file_extension": ".py",
   "mimetype": "text/x-python",
   "name": "python",
   "nbconvert_exporter": "python",
   "pygments_lexer": "ipython3",
   "version": "3.6.5-final"
  },
  "orig_nbformat": 2,
  "kernelspec": {
   "name": "Python 3.6.5 64-bit ('base': conda)",
   "display_name": "Python 3.6.5 64-bit ('base': conda)",
   "metadata": {
    "interpreter": {
     "hash": "97ae724bfa85b9b34df7982b8bb8c7216f435b92902d749e4263f71162bea840"
    }
   }
  }
 },
 "nbformat": 4,
 "nbformat_minor": 2,
 "cells": [
  {
   "cell_type": "code",
   "execution_count": 3,
   "metadata": {
    "tags": []
   },
   "outputs": [
    {
     "output_type": "stream",
     "name": "stdout",
     "text": [
      "2\n3\n6\n7\n1\n5\n4\n"
     ]
    }
   ],
   "source": [
    "# Q_18_odd-even-linked-list.py\n",
    "# 연결 리스트를 홀수 노드 다음에 짝수 노드가 오도록 재구성하라.\n",
    "\n",
    "from typing import List\n",
    "class ListNode:\n",
    "    def __init__(self, val=0, next=None):\n",
    "        self.val = val\n",
    "        self.next = next\n",
    "\n",
    "class Solution :\n",
    "    def oddEvenList(self, head: ListNode) -> ListNode:\n",
    "        odd = head\n",
    "        even = head.next\n",
    "        even_head = head.next\n",
    "\n",
    "        while even and even.next :\n",
    "            odd.next = odd.next.next\n",
    "            odd = odd.next\n",
    "            even.next = even.next.next\n",
    "            even = even.next\n",
    "        odd.next = even_head\n",
    "        \n",
    "        return head\n",
    "    \n",
    "# l1_1 = ListNode(1)\n",
    "# l1_2 = ListNode(2)\n",
    "# l1_3 = ListNode(3)\n",
    "# l1_4 = ListNode(4)\n",
    "# l1_5 = ListNode(5)\n",
    "l1_1 = ListNode(2)\n",
    "l1_2 = ListNode(1)\n",
    "l1_3 = ListNode(3)\n",
    "l1_4 = ListNode(5)\n",
    "l1_5 = ListNode(6)\n",
    "l1_6 = ListNode(4)\n",
    "l1_7 = ListNode(7)\n",
    "l1_1.next = l1_2\n",
    "l1_2.next = l1_3\n",
    "l1_3.next = l1_4\n",
    "l1_4.next = l1_5\n",
    "l1_5.next = l1_6\n",
    "l1_6.next = l1_7\n",
    "\n",
    "s = Solution()\n",
    "res = s.oddEvenList(l1_1)\n",
    "\n",
    "while res :\n",
    "    print(res.val)\n",
    "    res = res.next\n"
   ]
  },
  {
   "cell_type": "code",
   "execution_count": null,
   "metadata": {},
   "outputs": [],
   "source": []
  }
 ]
}