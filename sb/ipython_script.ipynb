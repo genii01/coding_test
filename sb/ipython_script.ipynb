{
 "metadata": {
  "language_info": {
   "codemirror_mode": {
    "name": "ipython",
    "version": 3
   },
   "file_extension": ".py",
   "mimetype": "text/x-python",
   "name": "python",
   "nbconvert_exporter": "python",
   "pygments_lexer": "ipython3",
   "version": "3.6.5-final"
  },
  "orig_nbformat": 2,
  "kernelspec": {
   "name": "Python 3.6.5 64-bit ('base': conda)",
   "display_name": "Python 3.6.5 64-bit ('base': conda)",
   "metadata": {
    "interpreter": {
     "hash": "97ae724bfa85b9b34df7982b8bb8c7216f435b92902d749e4263f71162bea840"
    }
   }
  }
 },
 "nbformat": 4,
 "nbformat_minor": 2,
 "cells": [
  {
   "cell_type": "code",
   "execution_count": 59,
   "metadata": {
    "tags": []
   },
   "outputs": [
    {
     "output_type": "stream",
     "name": "stdout",
     "text": [
      "7\n0\n8\n"
     ]
    }
   ],
   "source": [
    "# Q_16_add-two-numbers.py\n",
    "# 역순으로 저장된 연결 리스트의 숫자를 더하라.\n",
    "\n",
    "from typing import List\n",
    "class ListNode:\n",
    "    def __init__(self, val=0, next=None):\n",
    "        self.val = val\n",
    "        self.next = next\n",
    "\n",
    "class Solution :\n",
    "    def reverseList(self, head1: ListNode) -> ListNode:\n",
    "        node1, prev1 = head1, None\n",
    "        while node1 :\n",
    "            next, node1.next = node1.next , prev1\n",
    "            prev1, node1 = node1, next\n",
    "        \n",
    "        return prev1\n",
    "    \n",
    "    def toList(self, node: ListNode) -> List :\n",
    "        list1 = []\n",
    "        while node :\n",
    "            list1.append(node.val)\n",
    "            node = node.next\n",
    "        return list1\n",
    "    \n",
    "    def toReverseLinkedList(self, l1 : List) -> ListNode:\n",
    "        prev = None\n",
    "        for i in c:\n",
    "            node = ListNode(i)\n",
    "            node.next = prev\n",
    "            prev = node\n",
    "        return node\n",
    "\n",
    "    def addTwoNumbers(self, l1: ListNode, l2: ListNode) -> ListNode :\n",
    "        a = self.toList(self.reverseList(l1))\n",
    "        b = self.toList(self.reverseList(l2))\n",
    "\n",
    "        resultStr = int(''.join(str(e) for e in a)) + int(''.join(str(e) for e in b)) \n",
    "\n",
    "        return self.toReverseLinkedList(str(resultStr))\n",
    "\n",
    "l1_1 = ListNode(2)\n",
    "l1_2 = ListNode(4)\n",
    "l1_3 = ListNode(3)\n",
    "l1_1.next = l1_2\n",
    "l1_2.next = l1_3\n",
    "\n",
    "l2_1 = ListNode(5)\n",
    "l2_2 = ListNode(6)\n",
    "l2_3 = ListNode(4)\n",
    "l2_1.next = l2_2\n",
    "l2_2.next = l2_3\n",
    "\n",
    "s = Solution()\n",
    "res = s.addTwoNumbers(l1_1, l2_1)\n",
    "\n",
    "while res :\n",
    "    print(res.val)\n",
    "    res = res.next\n"
   ]
  },
  {
   "cell_type": "code",
   "execution_count": 58,
   "metadata": {},
   "outputs": [],
   "source": [
    "res"
   ]
  },
  {
   "cell_type": "code",
   "execution_count": 60,
   "metadata": {},
   "outputs": [
    {
     "output_type": "execute_result",
     "data": {
      "text/plain": [
       "(342, 465)"
      ]
     },
     "metadata": {},
     "execution_count": 60
    }
   ],
   "source": [
    "a = int(''.join(str(e) for e in list1)) \n",
    "b = int(''.join(str(e) for e in list2)) \n",
    "a,b"
   ]
  },
  {
   "cell_type": "code",
   "execution_count": 52,
   "metadata": {},
   "outputs": [],
   "source": [
    "prev = None\n",
    "for i in c:\n",
    "    node = ListNode(i)\n",
    "    node.next = prev\n",
    "    prev = node"
   ]
  },
  {
   "cell_type": "code",
   "execution_count": 54,
   "metadata": {},
   "outputs": [
    {
     "output_type": "stream",
     "name": "stdout",
     "text": [
      "7\n0\n8\n"
     ]
    }
   ],
   "source": [
    "while node:\n",
    "    print(node.val)\n",
    "    node = node.next"
   ]
  },
  {
   "cell_type": "code",
   "execution_count": null,
   "metadata": {},
   "outputs": [],
   "source": []
  }
 ]
}