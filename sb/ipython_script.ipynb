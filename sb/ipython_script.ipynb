{
 "metadata": {
  "language_info": {
   "codemirror_mode": {
    "name": "ipython",
    "version": 3
   },
   "file_extension": ".py",
   "mimetype": "text/x-python",
   "name": "python",
   "nbconvert_exporter": "python",
   "pygments_lexer": "ipython3",
   "version": "3.6.5-final"
  },
  "orig_nbformat": 2,
  "kernelspec": {
   "name": "python3",
   "display_name": "Python 3"
  }
 },
 "nbformat": 4,
 "nbformat_minor": 2,
 "cells": [
  {
   "cell_type": "code",
   "execution_count": 35,
   "metadata": {
    "tags": []
   },
   "outputs": [],
   "source": [
    "# Q_04_most-common-word.py\n",
    "from typing import List\n",
    "import re\n",
    "import collections\n",
    "paragraph = \"Bob hit a ball, the hit BALL flew far after it was hit.\"\n",
    "banned = [\"hit\"]"
   ]
  },
  {
   "cell_type": "code",
   "execution_count": 38,
   "metadata": {},
   "outputs": [],
   "source": [
    "class wordCounter :\n",
    "    def mostCommonWord(self, paragraph:str, banned:List[str]) -> str:\n",
    "        words = [word for word in re.sub(r'[^\\w]',' ',paragraph).lower().split() if word not in banned]\n",
    "        counts = collections.Counter(words)\n",
    "        \n",
    "        return counts.most_common(1)[0][0]\n",
    "\n",
    "# print(mostCommonWord(paragraph, banned))"
   ]
  },
  {
   "cell_type": "code",
   "execution_count": 39,
   "metadata": {},
   "outputs": [],
   "source": [
    "\n",
    "wc = wordCounter()\n",
    "result = wc.mostCommonWord(paragraph, banned)\n",
    "print(result)\n"
   ]
  }
 ]
}