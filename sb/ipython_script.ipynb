{
 "metadata": {
  "language_info": {
   "codemirror_mode": {
    "name": "ipython",
    "version": 3
   },
   "file_extension": ".py",
   "mimetype": "text/x-python",
   "name": "python",
   "nbconvert_exporter": "python",
   "pygments_lexer": "ipython3",
   "version": "3.6.5-final"
  },
  "orig_nbformat": 2,
  "kernelspec": {
   "name": "python_defaultSpec_1600698712956",
   "display_name": "Python 3.6.5 64-bit (virtualenv)"
  }
 },
 "nbformat": 4,
 "nbformat_minor": 2,
 "cells": [
  {
   "cell_type": "code",
   "execution_count": 9,
   "metadata": {
    "tags": []
   },
   "outputs": [
    {
     "output_type": "stream",
     "name": "stdout",
     "text": "6\n"
    }
   ],
   "source": [
    "# Q_08_trapping-rain-water.py\n",
    "# 높이를 입력받아 비 온 후 얼마나 많은 물이 쌓일 수 있는지 계산하라\n",
    "from typing import List\n",
    "\n",
    "class Solution :\n",
    "    def trap(self, height: List[int]) -> int:\n",
    "        if not height :\n",
    "            return 0\n",
    "\n",
    "        volume = 0\n",
    "        left, right = 0, len(height) - 1\n",
    "        left_max, right_max = height[left], height[right]\n",
    "        \n",
    "        while left < right :\n",
    "            left_max, right_max = max(height[left], left_max), max(height[right], right_max)\n",
    "            \n",
    "            if left_max <= right_max :\n",
    "                volume += left_max - height[left]\n",
    "                left += 1\n",
    "            else :\n",
    "                volume += right_max - height[right]\n",
    "                right -= 1\n",
    "        \n",
    "        return volume\n",
    "\n",
    "input = [0,1,0,2,1,0,1,3,2,1,2,1]\n",
    "\n",
    "s = Solution()\n",
    "result = s.trap(input)\n",
    "print(result)\n"
   ]
  },
  {
   "cell_type": "code",
   "execution_count": 10,
   "metadata": {},
   "outputs": [
    {
     "output_type": "execute_result",
     "data": {
      "text/plain": "12"
     },
     "metadata": {},
     "execution_count": 10
    }
   ],
   "source": [
    "len(input)"
   ]
  },
  {
   "cell_type": "code",
   "execution_count": null,
   "metadata": {},
   "outputs": [],
   "source": []
  }
 ]
}