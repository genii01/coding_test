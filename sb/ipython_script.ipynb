{
 "metadata": {
  "language_info": {
   "codemirror_mode": {
    "name": "ipython",
    "version": 3
   },
   "file_extension": ".py",
   "mimetype": "text/x-python",
   "name": "python",
   "nbconvert_exporter": "python",
   "pygments_lexer": "ipython3",
   "version": "3.6.5-final"
  },
  "orig_nbformat": 2,
  "kernelspec": {
   "name": "Python 3.6.5 64-bit ('base': conda)",
   "display_name": "Python 3.6.5 64-bit ('base': conda)",
   "metadata": {
    "interpreter": {
     "hash": "97ae724bfa85b9b34df7982b8bb8c7216f435b92902d749e4263f71162bea840"
    }
   }
  }
 },
 "nbformat": 4,
 "nbformat_minor": 2,
 "cells": [
  {
   "cell_type": "code",
   "execution_count": 3,
   "metadata": {
    "tags": []
   },
   "outputs": [],
   "source": [
    "# Q_14_merge-two-sorted-list.py\n",
    "# 정렬되어 있는 두 연결 리스트를 합쳐라.\n",
    "\n",
    "class ListNode(object):\n",
    "    def __init__(self,x):\n",
    "        self.val = x\n",
    "        self.next = None\n",
    "\n",
    "class solution :\n",
    "    def mergeTwoLists(self, l1: ListNode, l2: ListNode) -> ListNode:\n",
    "        if (not l1) or (l2 and l1.val > l2.val) :\n",
    "            l1, l2 = l2, l1\n",
    "        if l1 :\n",
    "            l1.next = self.mergeTwoLists(l1.next, l2)\n",
    "        return l1\n",
    "\n",
    "l1 = ListNode(1)\n",
    "l1_1 = ListNode(2)\n",
    "l1_2 = ListNode(4)\n",
    "l1.next = l1_1\n",
    "l1_1.next = l1_2\n",
    "\n",
    "l2 = ListNode(1)\n",
    "l2_1 = ListNode(3)\n",
    "l2_2 = ListNode(4)\n",
    "l2.next = l2_1\n",
    "l2_1.next = l2_2\n",
    "\n",
    "s = solution()\n",
    "res = s.mergeTwoLists(l1, l2)\n",
    "while res :\n",
    "    print(res.val)\n",
    "    res = res.next\n"
   ]
  }
 ]
}