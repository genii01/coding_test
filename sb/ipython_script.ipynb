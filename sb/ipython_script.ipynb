{
 "metadata": {
  "language_info": {
   "codemirror_mode": {
    "name": "ipython",
    "version": 3
   },
   "file_extension": ".py",
   "mimetype": "text/x-python",
   "name": "python",
   "nbconvert_exporter": "python",
   "pygments_lexer": "ipython3",
   "version": "3.6.5-final"
  },
  "orig_nbformat": 2,
  "kernelspec": {
   "name": "Python 3.6.5 64-bit ('base')",
   "display_name": "Python 3.6.5 64-bit ('base')",
   "metadata": {
    "interpreter": {
     "hash": "97ae724bfa85b9b34df7982b8bb8c7216f435b92902d749e4263f71162bea840"
    }
   }
  }
 },
 "nbformat": 4,
 "nbformat_minor": 2,
 "cells": [
  {
   "cell_type": "code",
   "execution_count": 14,
   "metadata": {
    "tags": []
   },
   "outputs": [
    {
     "output_type": "stream",
     "name": "stdout",
     "text": "True\n"
    }
   ],
   "source": [
    "# Q_13_palindrome-linked-list.py\n",
    "# 연결 리스트가 팬린드롬 구조인지 판별하라\n",
    "class ListNode(object):\n",
    "    def __init__(self,x):\n",
    "        self.val = x\n",
    "        self.next = None\n",
    "\n",
    "class solution :\n",
    "    def isPalindrome(self, head: ListNode) -> bool:\n",
    "        q: List = []\n",
    "        if not head:\n",
    "            return True\n",
    "        \n",
    "        node = head\n",
    "        while node is not None:\n",
    "            q.append(node.val)\n",
    "            node = node.next        \n",
    "        while len(q) > 1:\n",
    "            if q.pop(0) != q.pop():\n",
    "                return False\n",
    "\n",
    "        return True\n",
    "\n",
    "l1 = ListNode(1)\n",
    "l2 = ListNode(2)\n",
    "l1.next = l2\n",
    "l3 = ListNode(2)\n",
    "l4 = ListNode(1)\n",
    "l2.next = l3\n",
    "l3.next = l4\n",
    "\n",
    "s = solution()\n",
    "result = s.isPalindrome(l1)\n",
    "print(result)\n"
   ]
  },
  {
   "cell_type": "code",
   "execution_count": 10,
   "metadata": {},
   "outputs": [],
   "source": []
  }
 ]
}