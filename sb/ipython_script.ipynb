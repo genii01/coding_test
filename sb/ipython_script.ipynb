{
 "metadata": {
  "language_info": {
   "codemirror_mode": {
    "name": "ipython",
    "version": 3
   },
   "file_extension": ".py",
   "mimetype": "text/x-python",
   "name": "python",
   "nbconvert_exporter": "python",
   "pygments_lexer": "ipython3",
   "version": "3.6.5-final"
  },
  "orig_nbformat": 2,
  "kernelspec": {
   "name": "Python 3.6.5 64-bit ('base': conda)",
   "display_name": "Python 3.6.5 64-bit ('base': conda)",
   "metadata": {
    "interpreter": {
     "hash": "97ae724bfa85b9b34df7982b8bb8c7216f435b92902d749e4263f71162bea840"
    }
   }
  }
 },
 "nbformat": 4,
 "nbformat_minor": 2,
 "cells": [
  {
   "cell_type": "code",
   "execution_count": 15,
   "metadata": {
    "tags": []
   },
   "outputs": [
    {
     "output_type": "stream",
     "name": "stdout",
     "text": [
      "False\n2\n1\n"
     ]
    }
   ],
   "source": [
    "# Q_22_implement-stack-using-queues.py\n",
    "# 큐를 이용하여 다음 연산을 지원하는 스택을 구현하라.\n",
    "import collections\n",
    "from typing import List\n",
    "\n",
    "class Solution :\n",
    "    def __init__(self):\n",
    "        self.q = collections.deque()\n",
    "\n",
    "    def push(self, x):\n",
    "        self.q.append(x)\n",
    "        for _ in range(len(self.q)-1):\n",
    "            self.q.append(self.q.popleft())\n",
    "    def pop(self):\n",
    "        return self.q.popleft()\n",
    "    def top(self):\n",
    "        return self.q[0]\n",
    "    def empty(self):\n",
    "        return len(self.q) == 0\n",
    "\n",
    "s = Solution()\n",
    "s.push(1)\n",
    "s.push(2)\n",
    "print(s.empty())\n",
    "print(s.pop())\n",
    "print(s.pop())\n"
   ]
  },
  {
   "cell_type": "code",
   "execution_count": 7,
   "metadata": {},
   "outputs": [],
   "source": []
  },
  {
   "cell_type": "code",
   "execution_count": 8,
   "metadata": {},
   "outputs": [],
   "source": [
    "s.push(1)"
   ]
  },
  {
   "cell_type": "code",
   "execution_count": null,
   "metadata": {},
   "outputs": [],
   "source": []
  }
 ]
}