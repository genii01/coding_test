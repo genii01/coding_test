{
 "metadata": {
  "language_info": {
   "codemirror_mode": {
    "name": "ipython",
    "version": 3
   },
   "file_extension": ".py",
   "mimetype": "text/x-python",
   "name": "python",
   "nbconvert_exporter": "python",
   "pygments_lexer": "ipython3",
   "version": "3.6.5-final"
  },
  "orig_nbformat": 2,
  "kernelspec": {
   "name": "python_defaultSpec_1600957716351",
   "display_name": "Python 3.6.5 64-bit (virtualenv)"
  }
 },
 "nbformat": 4,
 "nbformat_minor": 2,
 "cells": [
  {
   "cell_type": "code",
   "execution_count": 17,
   "metadata": {
    "tags": []
   },
   "outputs": [
    {
     "output_type": "stream",
     "name": "stdout",
     "text": "[24, 12, 8, 6]\n"
    }
   ],
   "source": [
    "# Q_11_product-of-array-except-self.py\n",
    "# 배열을 입력받아 output[i]가 자신을 제외한 나머지 모든 요소의 곱셈 결과가 되도록 출력하라.\n",
    "from typing import List\n",
    "\n",
    "class solusion :\n",
    "    def productExceptSelf(self, nums: List[int]) -> List[int]:\n",
    "        nums = [1,2,3,4]\n",
    "        res = []\n",
    "        p = 1\n",
    "        for i in range(0, len(nums)):\n",
    "            res.append(p)\n",
    "            p = p * nums[i]\n",
    "        p = 1\n",
    "        for i in range(0, len(nums)):\n",
    "            res[-i-1] = res[-i-1]*p\n",
    "            p = p*nums[-i-1]\n",
    "        return res\n",
    "\n",
    "s = solusion()\n",
    "input = [1,2,3,4]\n",
    "print(s.productExceptSelf(input))\n"
   ]
  }
 ]
}