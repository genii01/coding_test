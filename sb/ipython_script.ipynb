{
 "metadata": {
  "language_info": {
   "codemirror_mode": {
    "name": "ipython",
    "version": 3
   },
   "file_extension": ".py",
   "mimetype": "text/x-python",
   "name": "python",
   "nbconvert_exporter": "python",
   "pygments_lexer": "ipython3",
   "version": "3.6.5-final"
  },
  "orig_nbformat": 2,
  "kernelspec": {
   "name": "Python 3.6.5 64-bit ('base': conda)",
   "display_name": "Python 3.6.5 64-bit ('base': conda)",
   "metadata": {
    "interpreter": {
     "hash": "97ae724bfa85b9b34df7982b8bb8c7216f435b92902d749e4263f71162bea840"
    }
   }
  }
 },
 "nbformat": 4,
 "nbformat_minor": 2,
 "cells": [
  {
   "cell_type": "code",
   "execution_count": 30,
   "metadata": {
    "tags": []
   },
   "outputs": [
    {
     "output_type": "stream",
     "name": "stdout",
     "text": [
      "1\n5\n4\n3\n2\n"
     ]
    }
   ],
   "source": [
    "# Q_19_reverse-linked-list-ii.py\n",
    "# 인덱스 m에서 n가지를 역순으로 만들어라. 인덱스 m은 1부터 시작한다.\n",
    "\n",
    "from typing import List\n",
    "class ListNode:\n",
    "    def __init__(self, val=0, next=None):\n",
    "        self.val = val\n",
    "        self.next = next\n",
    "def printNode(head: ListNode) -> None:\n",
    "    while head:\n",
    "        print(head.val)\n",
    "        head = head.next\n",
    "\n",
    "class Solution :\n",
    "    def reverseBetween(self, head: ListNode, m: int, n: int) -> ListNode:\n",
    "        if not head or m == n :\n",
    "            return head\n",
    "\n",
    "        root = start = ListNode(None)\n",
    "        root.next = head\n",
    "        \n",
    "        for _ in range(m-1) :\n",
    "            start = start.next\n",
    "        end = start.next\n",
    "\n",
    "        for _ in range(n-m) : \n",
    "            temp, start.next, end.next = start.next,end.next, end.next.next\n",
    "            start.next.next = temp\n",
    "            \n",
    "        res = root.next\n",
    "        \n",
    "        return head\n",
    "\n",
    "l1_1 = ListNode(1)\n",
    "l1_2 = ListNode(2)\n",
    "l1_3 = ListNode(3)\n",
    "l1_4 = ListNode(4)\n",
    "l1_5 = ListNode(5)\n",
    "l1_1.next = l1_2\n",
    "l1_2.next = l1_3\n",
    "l1_3.next = l1_4\n",
    "l1_4.next = l1_5\n",
    "\n",
    "s = Solution()\n",
    "res = s.reverseBetween(l1_1, 2, 5)\n",
    "printNode(res)"
   ]
  },
  {
   "cell_type": "code",
   "execution_count": 21,
   "metadata": {},
   "outputs": [
    {
     "output_type": "stream",
     "name": "stdout",
     "text": [
      "1\n2\n3\n4\n5\n"
     ]
    }
   ],
   "source": [
    "\n",
    "from typing import List\n",
    "class ListNode:\n",
    "    def __init__(self, val=0, next=None):\n",
    "        self.val = val\n",
    "        self.next = next\n",
    "\n",
    "printNode(l1_1)"
   ]
  },
  {
   "cell_type": "code",
   "execution_count": 16,
   "metadata": {},
   "outputs": [],
   "source": [
    "def printNode(head: ListNode) -> None:\n",
    "    while head:\n",
    "        print(head.val)\n",
    "        head = head.next"
   ]
  },
  {
   "cell_type": "code",
   "execution_count": 24,
   "metadata": {
    "tags": []
   },
   "outputs": [],
   "source": [
    "root = start = ListNode(None)\n",
    "root.next = l1_1\n",
    "m=2\n",
    "n=5\n",
    "for _ in range(m-1) :\n",
    "    start = start.next\n",
    "end = start.next\n",
    "            "
   ]
  },
  {
   "cell_type": "code",
   "execution_count": 25,
   "metadata": {
    "tags": []
   },
   "outputs": [
    {
     "output_type": "stream",
     "name": "stdout",
     "text": [
      "1\n5\n4\n3\n2\n"
     ]
    }
   ],
   "source": [
    "\n"
   ]
  },
  {
   "cell_type": "code",
   "execution_count": null,
   "metadata": {},
   "outputs": [],
   "source": []
  }
 ]
}